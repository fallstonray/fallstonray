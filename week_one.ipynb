{
  "nbformat": 4,
  "nbformat_minor": 0,
  "metadata": {
    "colab": {
      "provenance": [],
      "collapsed_sections": [
        "DBgFy3qQjg6m",
        "ym6oz-hjkJud"
      ],
      "authorship_tag": "ABX9TyPo6xM09MGMMrWjbAjGdERS",
      "include_colab_link": true
    },
    "kernelspec": {
      "name": "python3",
      "display_name": "Python 3"
    },
    "language_info": {
      "name": "python"
    }
  },
  "cells": [
    {
      "cell_type": "markdown",
      "metadata": {
        "id": "view-in-github",
        "colab_type": "text"
      },
      "source": [
        "<a href=\"https://colab.research.google.com/github/fallstonray/fallstonray/blob/main/week_one.ipynb\" target=\"_parent\"><img src=\"https://colab.research.google.com/assets/colab-badge.svg\" alt=\"Open In Colab\"/></a>"
      ]
    },
    {
      "cell_type": "code",
      "source": [
        "import requests\n",
        "\n",
        "response = requests.get('https://uselessfacts.jsph.pl/random.json?language=en')\n",
        "\n",
        "print(response.text)\n"
      ],
      "metadata": {
        "colab": {
          "base_uri": "https://localhost:8080/"
        },
        "id": "pj6YZQdI_2hI",
        "outputId": "da2ce4f7-401b-48e2-9737-27c0cb70083f"
      },
      "execution_count": null,
      "outputs": [
        {
          "output_type": "stream",
          "name": "stdout",
          "text": [
            "{\"id\":\"a1b1a66352027b974149846c2c2ea2e0\",\"text\":\"The word Pennsylvania is misspelled on the Liberty Bell.\",\"source\":\"djtech.net\",\"source_url\":\"http://www.djtech.net/humor/useless_facts.htm\",\"language\":\"en\",\"permalink\":\"https://uselessfacts.jsph.pl/api/v2/facts/a1b1a66352027b974149846c2c2ea2e0\"}\n",
            "\n"
          ]
        }
      ]
    },
    {
      "cell_type": "markdown",
      "source": [
        "# Data Structures\n",
        "The important ones are **lists**, **dictionaries, and sets.**\n"
      ],
      "metadata": {
        "id": "bcXE6IgaZ43h"
      }
    },
    {
      "cell_type": "markdown",
      "source": [
        "## List Slicing  \n",
        "first number - starting position (inclusive).\n",
        "second number - stopping postion (exclusive).\n",
        "third number - step.    \n",
        "example -  data[1:4:2].  \n",
        "\n"
      ],
      "metadata": {
        "id": "DBgFy3qQjg6m"
      }
    },
    {
      "cell_type": "code",
      "source": [
        "# Data Structures\n",
        "\n",
        "data = ['Ray','John','Billy','Gene','Paul']\n",
        "#print(data)\n",
        "#print(data[1]) this prints John\n",
        "# data.append('Ralph')\n",
        "\n",
        "data[1:4] #up to 4 but not including 4\n"
      ],
      "metadata": {
        "colab": {
          "base_uri": "https://localhost:8080/"
        },
        "id": "nA_jFoJsEbRS",
        "outputId": "40a081da-976a-4298-be82-2e1dbedf6c2d"
      },
      "execution_count": null,
      "outputs": [
        {
          "output_type": "execute_result",
          "data": {
            "text/plain": [
              "['John', 'Billy', 'Gene']"
            ]
          },
          "metadata": {},
          "execution_count": 16
        }
      ]
    },
    {
      "cell_type": "markdown",
      "source": [
        "# Dictionaries and Sets\n"
      ],
      "metadata": {
        "id": "ym6oz-hjkJud"
      }
    },
    {
      "cell_type": "code",
      "source": [
        "data = {'Ray','John','Billy','Gene','Paul'}\n",
        "\n",
        "data_dictionary = {\n",
        "    'Ray' : 5,\n",
        "    'John' : 10,\n",
        "    'Billy' : 11,\n",
        "    'Gene' : 20,\n",
        "    'Paul' : 4\n",
        "\n",
        "}\n",
        "\n",
        "print(data) #print order seems random? but not alpha order as I tested this\n",
        "print(data_dictionary)\n",
        "print(data_dictionary.get(\"Billy\"))\n",
        "\n"
      ],
      "metadata": {
        "colab": {
          "base_uri": "https://localhost:8080/"
        },
        "id": "CHdEDCJJksdd",
        "outputId": "af7f98d5-40bc-4d3c-af65-8e85ef923124"
      },
      "execution_count": null,
      "outputs": [
        {
          "output_type": "stream",
          "name": "stdout",
          "text": [
            "{'Billy', 'Gene', 'Paul', 'John', 'Zeebra', 'Ray'}\n",
            "{'Ray': 5, 'John': 10, 'Billy': 11, 'Gene': 20, 'Paul': 4}\n",
            "11\n"
          ]
        }
      ]
    },
    {
      "cell_type": "markdown",
      "source": [
        "# Control flow - Loops and Conditionals\n",
        "\n",
        "Iteration - One time through the loop."
      ],
      "metadata": {
        "id": "lpk-zjTUCI1d"
      }
    },
    {
      "cell_type": "code",
      "source": [
        "data = ['a','b','c','d','e']\n",
        "\n",
        "for i in range(10):\n",
        "  print(i, end=\" \")\n",
        "\n",
        "for i in data:\n",
        "  print(i)\n",
        "\n",
        "for i, letter in enumerate(data):\n",
        "  print(i, letter)\n",
        "\n",
        "\n"
      ],
      "metadata": {
        "colab": {
          "base_uri": "https://localhost:8080/"
        },
        "id": "fHC509ywCEVU",
        "outputId": "fef5c747-c130-4a67-f823-b83683ef4727"
      },
      "execution_count": 29,
      "outputs": [
        {
          "output_type": "stream",
          "name": "stdout",
          "text": [
            "0 1 2 3 4 5 6 7 8 9 a\n",
            "b\n",
            "c\n",
            "d\n",
            "e\n",
            "0 a\n",
            "1 b\n",
            "2 c\n",
            "3 d\n",
            "4 e\n"
          ]
        }
      ]
    },
    {
      "cell_type": "code",
      "source": [
        "data = ['a','b','c','d','e']\n",
        "\n",
        "i = 0\n",
        "\n",
        "while i < len(data):\n",
        "  print(data[i], end=\" \")\n",
        "  i += 1\n",
        "  print(i)\n",
        "\n",
        "while True:\n",
        "  x = input()\n",
        "  if x == \"stop\":\n",
        "    break\n"
      ],
      "metadata": {
        "colab": {
          "base_uri": "https://localhost:8080/"
        },
        "id": "uWpaGwRCx4Sz",
        "outputId": "8bd21ff9-2332-46bf-b9f3-f40344f42db1"
      },
      "execution_count": 8,
      "outputs": [
        {
          "name": "stdout",
          "output_type": "stream",
          "text": [
            "a 1\n",
            "b 2\n",
            "c 3\n",
            "d 4\n",
            "e 5\n",
            "asd\n",
            "asd\n",
            "asd\n",
            "stop\n"
          ]
        }
      ]
    },
    {
      "cell_type": "code",
      "source": [
        "data_dictionary = {\n",
        "    'Ray' : 5,\n",
        "    'John' : 10,\n",
        "    'Billy' : 11,\n",
        "    'Gene' : 20,\n",
        "    'Paul' : 4\n",
        "\n",
        "}\n",
        "\n",
        "for key, value in data_dictionary.items():\n",
        "  if value == 11:\n",
        "    print('we found 11')\n",
        "    break\n",
        "  print(key, value)\n",
        "\n",
        "print(\"\")\n",
        "\n",
        "for key, value in data_dictionary.items():\n",
        "  print(key, value)"
      ],
      "metadata": {
        "colab": {
          "base_uri": "https://localhost:8080/"
        },
        "id": "XA6_sSyVyldy",
        "outputId": "c29e3260-7865-4c5c-ac9f-6017643b43a5"
      },
      "execution_count": 12,
      "outputs": [
        {
          "output_type": "stream",
          "name": "stdout",
          "text": [
            "Ray 5\n",
            "John 10\n",
            "we found 11\n",
            "\n",
            "Ray 5\n",
            "John 10\n",
            "Billy 11\n",
            "Gene 20\n",
            "Paul 4\n"
          ]
        }
      ]
    },
    {
      "cell_type": "markdown",
      "source": [
        "# Control Flow\n",
        "**Guessing Game**\n",
        "\n",
        " Generate a random number -- random module\n",
        "\n",
        " do while - Python doesn't have this built in.  \n",
        " do somthing once - possibly repeat it.  \n",
        " Ask us for a number. If we get it wrong, ask again.  \n",
        "\n",
        " logic for right / wrong: guesses == correct value.  \n",
        "\n"
      ],
      "metadata": {
        "id": "2ZeVZiop2YAR"
      }
    },
    {
      "cell_type": "code",
      "source": [
        "from random import randint\n",
        "# or\n",
        "# import random\n",
        "# low = 0\n",
        "# high = 100\n",
        "correct = randint(0, 10)\n",
        "# print(f'Guess a number between {low} and {high}.')\n",
        "\n",
        "\n",
        "#print(correct)\n",
        "\n",
        "while True:\n",
        "  # do somthing\n",
        "  guess = int(input())  #accepting a string input as an interger, aka Typecasting\n",
        "\n",
        "  # check to see if we need should do it again\n",
        "  if guess == correct:\n",
        "    print('You Win!')\n",
        "    break\n",
        "\n",
        "  if guess < correct:\n",
        "    print('Guess higher')\n",
        "\n",
        "  elif guess > correct:\n",
        "    print(\"Guess lower\")\n",
        "  else:\n",
        "    print('You Win!')\n",
        "    break\n",
        "\n",
        "\n"
      ],
      "metadata": {
        "colab": {
          "base_uri": "https://localhost:8080/"
        },
        "id": "kp_Nae232Pzw",
        "outputId": "0dd3f9ba-85f2-44c5-8b31-f7567f9a9c56"
      },
      "execution_count": 28,
      "outputs": [
        {
          "output_type": "stream",
          "name": "stdout",
          "text": [
            "8\n",
            "5\n",
            "Guess higher\n",
            "45\n",
            "Guess lower\n",
            "20\n",
            "Guess lower\n",
            "10\n",
            "Guess lower\n",
            "3\n",
            "Guess higher\n",
            "4\n",
            "Guess higher\n",
            "5\n",
            "Guess higher\n",
            "6\n",
            "Guess higher\n",
            "7\n",
            "Guess higher\n",
            "8\n",
            "You Win!\n"
          ]
        }
      ]
    },
    {
      "cell_type": "code",
      "source": [],
      "metadata": {
        "id": "YUqH2Lmx3Ujc"
      },
      "execution_count": 20,
      "outputs": []
    }
  ]
}